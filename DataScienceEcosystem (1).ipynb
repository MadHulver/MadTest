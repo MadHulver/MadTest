{
 "cells": [
  {
   "cell_type": "markdown",
   "id": "5410c1f3-14a9-4c95-a626-ff873a78c135",
   "metadata": {},
   "source": [
    "## Data Science Tools and Ecosystem"
   ]
  },
  {
   "cell_type": "markdown",
   "id": "053ea591-d03f-46be-85e2-9fbf6e2c0abb",
   "metadata": {},
   "source": [
    "In this notebook, Data Science Tools and Ecosystem are summarized."
   ]
  },
  {
   "cell_type": "markdown",
   "id": "0af77f66-5fad-4619-880c-703f87c93c25",
   "metadata": {},
   "source": [
    "Some of the popular languages that Data Scientists use are:\n",
    "1. Python\n",
    "2. R\n",
    "3. C\n",
    "4. C++"
   ]
  },
  {
   "cell_type": "markdown",
   "id": "4ba85676-3645-4c60-9d8d-d1a7b1861205",
   "metadata": {},
   "source": [
    "Some of the commonly used libraries used by Data Scientists include:\n",
    "1. NumPy\n",
    "2. Matplotlib\n",
    "3. PyTorch"
   ]
  },
  {
   "attachments": {},
   "cell_type": "markdown",
   "id": "1ae4795e-7727-4314-ab8b-8a943232a86c",
   "metadata": {},
   "source": [
    "Data Science Tools\n",
    "\n",
    "| Tools |\n",
    "| ----- |\n",
    "| Apache Spark |\n",
    "| Jupyter Notebook |\n",
    "| Keras |"
   ]
  },
  {
   "cell_type": "markdown",
   "id": "350cd5fa-8955-4ea1-acca-9b5f0be03adb",
   "metadata": {},
   "source": [
    "### Below are a few examples of evaluating arithmetic expressions in Python\n",
    "1. Addition: a + b\n",
    "2. Subtraction: a - b\n",
    "3. Multiplication: a * b\n",
    "4. Division: a / b (returns a float)"
   ]
  },
  {
   "cell_type": "markdown",
   "id": "e05869a2-405a-4433-98c0-fde5623624e3",
   "metadata": {},
   "source": [
    "This a simple arithmetic expression to mutiply then add integers"
   ]
  },
  {
   "cell_type": "code",
   "execution_count": 1,
   "id": "bf9cfdf2-8427-4f3b-8d04-d7507f0b9636",
   "metadata": {},
   "outputs": [
    {
     "data": {
      "text/plain": [
       "17"
      ]
     },
     "execution_count": 1,
     "metadata": {},
     "output_type": "execute_result"
    }
   ],
   "source": [
    "(3*4)+5"
   ]
  },
  {
   "cell_type": "markdown",
   "id": "103206a6-3475-47a4-8112-e8140e91e904",
   "metadata": {},
   "source": [
    "This will convert 200 minutes to hours by diving by 60."
   ]
  },
  {
   "cell_type": "code",
   "execution_count": 2,
   "id": "607d3709-fccf-4614-84d9-7f4189e7119f",
   "metadata": {},
   "outputs": [
    {
     "data": {
      "text/plain": [
       "3.3333333333333335"
      ]
     },
     "execution_count": 2,
     "metadata": {},
     "output_type": "execute_result"
    }
   ],
   "source": [
    "200/60"
   ]
  },
  {
   "cell_type": "markdown",
   "id": "34f8ce7e-2490-4b4a-b0cb-a3a451b5cdfa",
   "metadata": {},
   "source": [
    "Objectives:\n",
    "- Popular languages for Data Science\n",
    "- Popular libraries for Data Science\n",
    "- Arithmetic Expressions"
   ]
  },
  {
   "cell_type": "markdown",
   "id": "a2dfddb7-330d-490c-a3e5-c3862ed03fb1",
   "metadata": {},
   "source": [
    "## Author\n",
    "Madlyn Hulver"
   ]
  },
  {
   "cell_type": "code",
   "execution_count": null,
   "id": "637367cb-fe4e-4661-8de1-5b407df4140b",
   "metadata": {},
   "outputs": [],
   "source": []
  }
 ],
 "metadata": {
  "kernelspec": {
   "display_name": "Python 3 (ipykernel)",
   "language": "python",
   "name": "python3"
  },
  "language_info": {
   "codemirror_mode": {
    "name": "ipython",
    "version": 3
   },
   "file_extension": ".py",
   "mimetype": "text/x-python",
   "name": "python",
   "nbconvert_exporter": "python",
   "pygments_lexer": "ipython3",
   "version": "3.12.8"
  }
 },
 "nbformat": 4,
 "nbformat_minor": 5
}
